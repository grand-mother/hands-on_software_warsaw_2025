{
 "cells": [
  {
   "cell_type": "markdown",
   "id": "ae00b399-0209-41da-b7cc-eb20c49b2d38",
   "metadata": {},
   "source": [
    "# GRAND Data reading -> reconstructrion -> writing with AOI"
   ]
  },
  {
   "cell_type": "markdown",
   "id": "9aeec2bd-d26d-412b-82a8-bd07852c52a8",
   "metadata": {},
   "source": [
    "First, imports. The first is necessary, the rest is just for plotting."
   ]
  },
  {
   "cell_type": "code",
   "execution_count": null,
   "id": "35f65deb-bb65-4924-9684-d335c9a7c7f9",
   "metadata": {},
   "outputs": [],
   "source": [
    "from grand.aoi import *\n",
    "from IPython.display import display, clear_output\n",
    "import matplotlib.pyplot as plt"
   ]
  },
  {
   "cell_type": "markdown",
   "id": "93541a62-df80-4c8c-9ee0-e1105cc0dee1",
   "metadata": {},
   "source": [
    "## Open the list of events\n",
    "\n",
    "1. The first parameter is GRAND directory or GRAND ROOT file\n",
    "2. The `use_trawvoltage=True` is necessary for experimental data (where we have trawvoltage instead of voltage)"
   ]
  },
  {
   "cell_type": "code",
   "execution_count": null,
   "id": "77544758-575c-49d3-996a-7d4acf649528",
   "metadata": {},
   "outputs": [],
   "source": [
    "el = EventList(\"confirmed_events\", use_trawvoltage=True)"
   ]
  },
  {
   "cell_type": "markdown",
   "id": "3734b1e4-e185-479f-b8a9-ae579f63c699",
   "metadata": {},
   "source": [
    "## Loop through the list of events\n",
    "\n",
    "1. The main information from the ROOT data files is read into the Event class instance\n",
    "2. Each Event data is stored in subclasses such as antenna, voltages, efields, shower\n",
    "3. Each subclass has its own members, such as traces\n",
    "4. Some subclasses are lists, such as voltages or efields, where each index is the number of DU in the event\n",
    "5. Some subclasses have subclasses, like Voltage has TimeTrace3D, which in turn has x,y,z - this is what we access below"
   ]
  },
  {
   "cell_type": "code",
   "execution_count": null,
   "id": "7d584818-e0a4-49a0-a02c-8df76e62441e",
   "metadata": {},
   "outputs": [],
   "source": [
    "for i, e in enumerate(el):\n",
    "    print(f\"Run #{e.run_number}, Event #{e.event_number}\")\n",
    "    print(\"Voltage trace [0], x:\", e.voltages[0].trace.x)"
   ]
  },
  {
   "cell_type": "markdown",
   "id": "c6da60c7-0aa3-4245-9a5c-ac30d0da31d3",
   "metadata": {},
   "source": [
    "## Plotting traces\n",
    "\n",
    "1. Just plot `e.voltages[i].t_vector, e.voltages[i].trace.x`\n",
    "2. You can loop through e.voltages to draw different DUs\n",
    "3. DU ID is stored in `e.voltages[i].du_id`\n",
    "\n",
    "You need to manually go to the next cell after the plotting loop finishes (quirks of waiting for key press)"
   ]
  },
  {
   "cell_type": "code",
   "execution_count": null,
   "id": "d8b0b71b-f1c7-496c-8469-ee71d741d822",
   "metadata": {},
   "outputs": [],
   "source": [
    "for i, e in enumerate(el):\n",
    "    print(f\"Run #{e.run_number}, Event #{e.event_number}, DU_ID {e.voltages[0].du_id}\")\n",
    "    plt.figure()\n",
    "    plt.plot(e.voltages[0].t_vector, e.voltages[0].trace.x)\n",
    "    display(plt.gcf())\n",
    "    clear_output(wait=True)\n",
    "\n",
    "    # Wait for key press\n",
    "    rep = \"\"\n",
    "    while not rep in [ 'q', 'Q', \"x\", \"X\", \"c\", \"C\" ]:\n",
    "        rep = input('enter \"c\" or \"q\" to continue, \"x\" to quit, \"b\" to break the loop: ')\n",
    "        if len(rep)<1: continue\n",
    "            \n",
    "    plt.close()\n",
    "\n",
    "    if i==3: break"
   ]
  },
  {
   "cell_type": "markdown",
   "id": "89b4a307-26c1-4424-b385-fca00d09d66e",
   "metadata": {},
   "source": [
    "## Analytical plane wave reconstruction function\n",
    "\n",
    "Just for ilustrational purposes. Doesn't always give a proper result."
   ]
  },
  {
   "cell_type": "code",
   "execution_count": null,
   "id": "9324ef36-a1c2-4d2d-a64d-2af1010f31d4",
   "metadata": {},
   "outputs": [],
   "source": [
    "def plane_wave_direction_with_errors(x, y, t, sigma=None):\n",
    "    \"\"\"\n",
    "    Analytic plane-wave fit for EAS arrival direction, with 1σ uncertainties.\n",
    "\n",
    "    Inputs:\n",
    "      x, y : arrays of detector coords [m]\n",
    "      t    : array of trigger times [ns]\n",
    "      sigma: optional array of timing uncertainties [ns];\n",
    "             if None, all weights = 1.\n",
    "\n",
    "    Returns:\n",
    "      theta, phi, theta_err, phi_err, t0, a, b\n",
    "    \"\"\"\n",
    "    # Speed of light [m/ns]\n",
    "    c = 0.299792458  # m/ns :contentReference[oaicite:0]{index=0}\n",
    "\n",
    "    # Convert to numpy arrays\n",
    "    x = np.asarray(x, float)\n",
    "    y = np.asarray(y, float)\n",
    "    t = np.asarray(t, float)\n",
    "    N = len(x)\n",
    "\n",
    "    t -= np.min(t)\n",
    "\n",
    "    # Weights: w_i = 1/σ_i^2 or 1\n",
    "    if sigma is None:\n",
    "        sigma = np.ones(N)*15\n",
    "\n",
    "    w = 1.0 / np.square(sigma)  # :contentReference[oaicite:1]{index=1}\n",
    "\n",
    "    # Centre & scale for stability\n",
    "    x0 = np.average(x, weights=w)\n",
    "    y0 = np.average(y, weights=w)\n",
    "    t0m = np.average(t, weights=w)\n",
    "    x_c = (x - x0) / c           # include 1/c factor here :contentReference[oaicite:2]{index=2}\n",
    "    y_c = (y - y0) / c\n",
    "    t_c = t - t0m                # centred times :contentReference[oaicite:3]{index=3}\n",
    "\n",
    "    # Build normal-equation sums\n",
    "    S0  = np.sum(w)\n",
    "    Sx  = np.sum(w * x_c)\n",
    "    Sy  = np.sum(w * y_c)\n",
    "    Sxx = np.sum(w * x_c * x_c)\n",
    "    Syy = np.sum(w * y_c * y_c)\n",
    "    Sxy = np.sum(w * x_c * y_c)\n",
    "\n",
    "    St  = np.sum(w * t_c)\n",
    "    Sxt = np.sum(w * x_c * t_c)\n",
    "    Syt = np.sum(w * y_c * t_c)  # :contentReference[oaicite:4]{index=4}\n",
    "\n",
    "    # Assemble and solve for β = [t0', a, b]\n",
    "    M = np.array([[S0,  Sx,  Sy],\n",
    "                  [Sx, Sxx, Sxy],\n",
    "                  [Sy, Sxy, Syy]])\n",
    "    v = np.array([St, Sxt, Syt])\n",
    "    t0p, a, b = np.linalg.solve(M, v)    # :contentReference[oaicite:5]{index=5}\n",
    "\n",
    "    # Recover the true t0\n",
    "    t0 = t0p + t0m - (a*x0 + b*y0)/c      # :contentReference[oaicite:6]{index=6}\n",
    "\n",
    "    # Compute residuals and χ²/ndf for error scaling\n",
    "    t_pred = t0 + (a*(x - x0) + b*(y - y0)) / c\n",
    "    resid = (t - t_pred)/sigma\n",
    "    chi2 = np.sum(w * resid**2)          # :contentReference[oaicite:7]{index=7}\n",
    "    ndf = N - 3\n",
    "    if ndf==0: sigma2_res = chi2\n",
    "    else:\n",
    "      sigma2_res = chi2 / ndf              # reduced χ² :contentReference[oaicite:8]{index=8}\n",
    "\n",
    "    # Covariance matrix of [t0', a, b] = M⁻¹ · σ₂_res\n",
    "    # Cov = np.linalg.inv(M) * sigma2_res  # :contentReference[oaicite:9]{index=9}\n",
    "    Cov = np.linalg.inv(M)\n",
    "    var_a = Cov[1,1]\n",
    "    var_b = Cov[2,2]\n",
    "    cov_ab = Cov[1,2]                    # :contentReference[oaicite:10]{index=10}\n",
    "\n",
    "    # Build unit‐normal: n ∝ (-a, -b,  c)\n",
    "    nx, ny, nz = -a/c, -b/c, 1\n",
    "    norm = np.sqrt(nx*nx + ny*ny + nz*nz)\n",
    "    nx, ny, nz = nx/norm, ny/norm, nz/norm\n",
    "\n",
    "    # Angles\n",
    "    theta = np.degrees(np.arccos(nz))    # θ ∈ [0°,180°] :contentReference[oaicite:11]{index=11}\n",
    "    phi   = np.degrees(np.arctan2(ny, nx))  # φ ∈ [-180°,180°] :contentReference[oaicite:12]{index=12}\n",
    "\n",
    "    # ---------------------------------------------------------------------\n",
    "    # Propagate uncertainties via ∂θ/∂a, ∂θ/∂b, ∂φ/∂a, ∂φ/∂b\n",
    "    # ---------------------------------------------------------------------\n",
    "    R2 = a*a + b*b + 1.0\n",
    "    # derivatives in radians\n",
    "    dth_da = -a / (R2 * np.sqrt(R2))\n",
    "    dth_db = -b / (R2 * np.sqrt(R2))\n",
    "    dph_da =  b / (a*a + b*b)\n",
    "    dph_db = -a / (a*a + b*b)\n",
    "\n",
    "    # variances in degrees^2\n",
    "    var_theta = (dth_da*180/np.pi)**2 * var_a \\\n",
    "              + 2*(dth_da*180/np.pi)*(dth_db*180/np.pi)*cov_ab \\\n",
    "              + (dth_db*180/np.pi)**2 * var_b\n",
    "    var_phi   = (dph_da*180/np.pi)**2 * var_a \\\n",
    "              + 2*(dph_da*180/np.pi)*(dph_db*180/np.pi)*cov_ab \\\n",
    "              + (dph_db*180/np.pi)**2 * var_b\n",
    "\n",
    "    theta_err = np.sqrt(var_theta)\n",
    "    phi_err   = np.sqrt(var_phi)\n",
    "\n",
    "    return theta, phi, theta_err, phi_err#, chi2#, sigma2_res#, t0, a, b\n"
   ]
  },
  {
   "cell_type": "markdown",
   "id": "6f0d6e8c-2ea7-4957-856c-268b3a7d080a",
   "metadata": {},
   "source": [
    "## Delete the results directory if already exists\n",
    "\n",
    "Otherwise the Event will complain and not write out"
   ]
  },
  {
   "cell_type": "code",
   "execution_count": null,
   "id": "019dbad2-f830-4def-93c0-76a1260f0c6c",
   "metadata": {},
   "outputs": [],
   "source": [
    "import shutil\n",
    "if Path(\"reconstructed_events\").is_dir():\n",
    "    shutil.rmtree(\"reconstructed_events\")"
   ]
  },
  {
   "cell_type": "markdown",
   "id": "fb61593a-ac22-4b51-8028-27844eb05cb1",
   "metadata": {},
   "source": [
    "## The reconstruction loop\n",
    "\n",
    "1. Loop through `EventList` like before\n",
    "2. Insert and execute your reconstruction code for every Event\n",
    "3. Create the `Shower()` and attach to `e.shower`\n",
    "4. Fill the `e.shower` with the results of reconstruction\n",
    "5. Write the `Event` to the directory of your choice"
   ]
  },
  {
   "cell_type": "code",
   "execution_count": null,
   "id": "ea28dcea-7ff9-4cdd-a3a9-df720bb6d1cf",
   "metadata": {},
   "outputs": [],
   "source": [
    "for i, e in enumerate(el):\n",
    "    print(f\"Run #{e.run_number}, Event #{e.event_number}\")\n",
    "\n",
    "    # *** DIRECTION RECONSTRUCTION ***\n",
    "    \n",
    "    # Get the positions of antennas in the current event\n",
    "    positions = np.array([[ant.position.x[0], ant.position.y[0]] for ant in e.antennas])\n",
    "\n",
    "    # Get the trigger times (if these are really trigger times is still questionable)\n",
    "    trigger_times = np.array([v.trigger_time for v in e.voltages])\n",
    "\n",
    "    # Reduce the number of digits in times - there are Unix times with nanoseconds!\n",
    "    trigger_times = np.array(trigger_times - np.min(trigger_times)).astype(np.float64)\n",
    "    \n",
    "    # Reconstruct the direction with plane wave analytical fit - may fail\n",
    "    fit_failed = False\n",
    "    try:\n",
    "        zenith, azimuth, dzenith, dazimuth = plane_wave_direction_with_errors(positions[:, 0], positions[:, 1], trigger_times)\n",
    "    except:\n",
    "        fit_failed = True\n",
    "\n",
    "    # *** X_MAX \"RECONSTRUCTION\"\n",
    "    xmax = np.random.rand()*400+700\n",
    "\n",
    "    print(f\"Reconstruction results: zenith {zenith}, azimuth {azimuth}, Xmax {xmax}\")\n",
    "\n",
    "    # *** SAVING THE RESULTS - only for successful results***\n",
    "\n",
    "    if fit_failed: continue\n",
    "    \n",
    "    # Create the Shower instance\n",
    "    e.shower = Shower()\n",
    "\n",
    "    # Fill with reconstruction information\n",
    "    # We are not storing uncertainties anywhere - we should probably add fields in the trees\n",
    "    e.shower.zenith = zenith\n",
    "    e.shower.azimuth = azimuth\n",
    "    e.shower.Xmax = xmax\n",
    "\n",
    "    # Write the event in the target directory\n",
    "    e.write(out_dir=\"reconstructed_events\")\n",
    "    \n",
    "    plt.close()"
   ]
  },
  {
   "cell_type": "markdown",
   "id": "d3467b34-90da-4e7d-8609-84cff3b0dea0",
   "metadata": {},
   "source": [
    "## Source and reconstruction directories contents comparison\n",
    "\n",
    "In the source directory we have just run information and files with traces"
   ]
  },
  {
   "cell_type": "code",
   "execution_count": null,
   "id": "d07402a4-7ffd-4a7f-8ef4-1b84323a170b",
   "metadata": {},
   "outputs": [],
   "source": [
    "import os\n",
    "\n",
    "sorted(os.listdir(\"confirmed_events\"))"
   ]
  },
  {
   "cell_type": "markdown",
   "id": "da50b7af-8d33-42b4-95e0-a69e99d057b0",
   "metadata": {},
   "source": [
    "1. In the output directory we have the file with reconstructed showers parameters\n",
    "2. The adc traces file is gone, because (for now) we decided it is not interested for the Event reconstruction purposes (and thus ignored by AOI)"
   ]
  },
  {
   "cell_type": "code",
   "execution_count": null,
   "id": "300a87c7-8b05-4f57-b18d-0ecaf5c00527",
   "metadata": {},
   "outputs": [],
   "source": [
    "sorted(os.listdir(\"reconstructed_events\"))"
   ]
  },
  {
   "cell_type": "markdown",
   "id": "c82eb46d-157e-426b-8c81-f48f9f8111ed",
   "metadata": {},
   "source": [
    "## Reading saved reconstruction results\n",
    "\n",
    "Same as before, but let's now read \"reconstructed_events\" directory that we've created above with `EventList`"
   ]
  },
  {
   "cell_type": "code",
   "execution_count": null,
   "id": "d87ce162-7501-49ee-9478-1f3acef625c0",
   "metadata": {},
   "outputs": [],
   "source": [
    "el_reco = EventList(\"reconstructed_events\", use_trawvoltage=True)"
   ]
  },
  {
   "cell_type": "markdown",
   "id": "079a47e4-b7fd-4342-8d92-14680f074d3d",
   "metadata": {},
   "source": [
    "### Getting all angles and Xmaxes\n",
    "\n",
    "Loop through the `EventList` as before, and store the parameters in lists"
   ]
  },
  {
   "cell_type": "code",
   "execution_count": null,
   "id": "b366d3be-b68f-427a-98dd-e95e7cd6c764",
   "metadata": {},
   "outputs": [],
   "source": [
    "zeniths, azimuths, xmaxs = [], [], []\n",
    "for i, e in enumerate(el_reco):\n",
    "    print(e.run_number, e.event_number, e.voltages[0].trace.x)\n",
    "    zeniths.append(e.shower.zenith)\n",
    "    azimuths.append(e.shower.azimuth)\n",
    "    xmaxs.append(e.shower.Xmax)"
   ]
  },
  {
   "cell_type": "markdown",
   "id": "27622c47-b2f4-4483-ba28-9938c64ceb1a",
   "metadata": {},
   "source": [
    "### Ploting the read-out reconstructed angles\n",
    "\n",
    "Simple plotting. You have to look at ROOT output, because I despise matplotlib"
   ]
  },
  {
   "cell_type": "code",
   "execution_count": null,
   "id": "15290fdb-77d9-4fb6-9908-51d4a48c3306",
   "metadata": {},
   "outputs": [],
   "source": [
    "g_pw = ROOT.TGraphPolar(len(zeniths), np.radians(np.array(zeniths)).astype(np.float64), np.array(azimuths).astype(np.float64))\n",
    "c = ROOT.TCanvas()\n",
    "g_pw.Draw(\"A*\")\n",
    "c.Draw()"
   ]
  },
  {
   "cell_type": "markdown",
   "id": "c054f421-26de-4484-9b4a-8246268a8407",
   "metadata": {},
   "source": [
    "## Documentation\n",
    "\n",
    "The **very** outdated documentation is available at http://grand.fuw.edu.pl/analysis_oriented_api/ (l: grand, p: uhenuuhecr), but the main fields of the Event class are there.\n",
    "\n",
    "**Please test and suggest improvements!**"
   ]
  },
  {
   "cell_type": "code",
   "execution_count": null,
   "id": "d2353b02-2886-4ea4-b392-071b44b7303e",
   "metadata": {},
   "outputs": [],
   "source": []
  }
 ],
 "metadata": {
  "kernelspec": {
   "display_name": "Python 3 (ipykernel)",
   "language": "python",
   "name": "python3"
  },
  "language_info": {
   "codemirror_mode": {
    "name": "ipython",
    "version": 3
   },
   "file_extension": ".py",
   "mimetype": "text/x-python",
   "name": "python",
   "nbconvert_exporter": "python",
   "pygments_lexer": "ipython3",
   "version": "3.13.3"
  }
 },
 "nbformat": 4,
 "nbformat_minor": 5
}
